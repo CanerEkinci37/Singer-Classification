{
 "cells": [
  {
   "cell_type": "code",
   "execution_count": 61,
   "id": "02a3ece0-927d-4777-b523-4ce6f5134969",
   "metadata": {},
   "outputs": [],
   "source": [
    "import numpy as np\n",
    "import matplotlib.pyplot as plt\n",
    "import seaborn as sns\n",
    "import cv2\n",
    "import warnings\n",
    "\n",
    "warnings.filterwarnings(\"ignore\")"
   ]
  },
  {
   "cell_type": "markdown",
   "id": "54eb25b6-4c23-4c41-a587-b30beb2eeb07",
   "metadata": {},
   "source": [
    "# Data preprocessing"
   ]
  },
  {
   "cell_type": "markdown",
   "id": "1aefbb66-7177-4c09-9238-765e63e68594",
   "metadata": {},
   "source": [
    "## Cropped face"
   ]
  },
  {
   "cell_type": "code",
   "execution_count": 62,
   "id": "7f9e7fd6-4dfb-409c-86f4-bc04567b9b3c",
   "metadata": {},
   "outputs": [],
   "source": [
    "face_cascade = cv2.CascadeClassifier('opencv/haarcascade_frontalface_default.xml')\n",
    "eyes_cascade = cv2.CascadeClassifier('opencv/haarcascade_eye.xml')\n",
    "\n",
    "def get_cropped_face(image_path):\n",
    "    img = cv2.imread(image_path)\n",
    "    gray = cv2.cvtColor(img, cv2.COLOR_BGR2GRAY)\n",
    "    faces = face_cascade.detectMultiScale(gray, 1.3, 5)\n",
    "    for (x, y, w, h) in faces:\n",
    "        roi_color = img[y:y+h, x:x+w]\n",
    "        roi_gray = img[y:y+h, x:x+w]\n",
    "        eyes = eyes_cascade.detectMultiScale(roi_gray, 1.3, 5)\n",
    "        if len(eyes) >= 2:\n",
    "            return roi_color"
   ]
  },
  {
   "cell_type": "markdown",
   "id": "5997062d-5437-4a1f-9c93-9daf341d851a",
   "metadata": {},
   "source": [
    "## Creating folders"
   ]
  },
  {
   "cell_type": "code",
   "execution_count": 63,
   "id": "0d47e29a-d33c-40e8-9d70-cbdae20cd039",
   "metadata": {},
   "outputs": [],
   "source": [
    "import os\n",
    "import shutil\n",
    "curr_path = \"./dataset/\"\n",
    "to_path = \"./dataset/cropped/\"\n",
    "\n",
    "img_dirs = []\n",
    "\n",
    "for entry in os.scandir(curr_path):\n",
    "    if entry.is_dir():\n",
    "        img_dirs.append(entry.path)\n",
    "\n",
    "if os.path.exists(to_path):\n",
    "    shutil.rmtree(to_path)\n",
    "os.mkdir(to_path)    "
   ]
  },
  {
   "cell_type": "code",
   "execution_count": 64,
   "id": "cdab93bb-a217-46e8-8863-e2daf1159332",
   "metadata": {},
   "outputs": [
    {
     "data": {
      "text/plain": [
       "['./dataset/adrian_von_ziegler',\n",
       " './dataset/fatma_turgut',\n",
       " './dataset/jeff_danna',\n",
       " './dataset/michael_rhein',\n",
       " './dataset/sarah_jane_scott']"
      ]
     },
     "execution_count": 64,
     "metadata": {},
     "output_type": "execute_result"
    }
   ],
   "source": [
    "img_dirs"
   ]
  },
  {
   "cell_type": "code",
   "execution_count": 65,
   "id": "46cbabda-f7f5-4b81-bbd3-b262b1c5e8b6",
   "metadata": {},
   "outputs": [
    {
     "data": {
      "text/plain": [
       "['./dataset/adrian_von_ziegler',\n",
       " './dataset/fatma_turgut',\n",
       " './dataset/jeff_danna',\n",
       " './dataset/michael_rhein',\n",
       " './dataset/sarah_jane_scott']"
      ]
     },
     "execution_count": 65,
     "metadata": {},
     "output_type": "execute_result"
    }
   ],
   "source": [
    "img_dirs"
   ]
  },
  {
   "cell_type": "code",
   "execution_count": 66,
   "id": "6cbd438c-9e46-4b55-843e-4c8b78e4a725",
   "metadata": {},
   "outputs": [
    {
     "name": "stdout",
     "output_type": "stream",
     "text": [
      "adrian_von_ziegler cropped directory is loading\n",
      "fatma_turgut cropped directory is loading\n",
      "jeff_danna cropped directory is loading\n",
      "michael_rhein cropped directory is loading\n",
      "sarah_jane_scott cropped directory is loading\n"
     ]
    }
   ],
   "source": [
    "singer_names_dict = {}\n",
    "for img_dir in img_dirs:\n",
    "    singer_name = img_dir.split(\"/\")[-1]\n",
    "    singer_names_dict[singer_name] = []\n",
    "    count = 1\n",
    "    print(f\"{singer_name} cropped directory is loading\")\n",
    "    for entry in os.scandir(img_dir):\n",
    "        roi_color = get_cropped_face(entry.path)\n",
    "        if roi_color is not None:\n",
    "            cropped_folder = to_path + singer_name\n",
    "            if not os.path.exists(cropped_folder):\n",
    "                os.makedirs(cropped_folder)\n",
    "            file_name = singer_name + str(count) + \".jpg\"\n",
    "            file_path = cropped_folder + \"/\" + file_name\n",
    "            singer_names_dict[singer_name].append(file_path)\n",
    "            cv2.imwrite(file_path, roi_color)\n",
    "            count += 1"
   ]
  },
  {
   "cell_type": "markdown",
   "id": "43a02033-e928-44d2-84c8-86f188c00ba0",
   "metadata": {},
   "source": [
    "# Feature engineering"
   ]
  },
  {
   "cell_type": "code",
   "execution_count": 67,
   "id": "34924b3b-cadc-4600-b677-c45ef2663a13",
   "metadata": {},
   "outputs": [],
   "source": [
    "import pywt\n",
    "def w2d(img, mode='haar', level=1):\n",
    "    imArray = img\n",
    "    imArray = cv2.cvtColor(imArray, cv2.COLOR_BGR2GRAY)\n",
    "    imArray = np.float32(imArray)   \n",
    "    imArray /= 255\n",
    "    \n",
    "    coeffs = pywt.wavedec2(imArray, wavelet=mode, level=level)\n",
    "    coeffs_H = list(coeffs)\n",
    "    coeffs_H[0] *= 0\n",
    "    \n",
    "    imArray_H = pywt.waverec2(coeffs_H, wavelet=mode)\n",
    "    imArray_H *= 255\n",
    "    imArray_H = np.uint8(imArray_H)\n",
    "\n",
    "    return imArray_H"
   ]
  },
  {
   "cell_type": "code",
   "execution_count": 68,
   "id": "c083d4b5-6f6f-42f7-93c8-4a83c910a9cf",
   "metadata": {},
   "outputs": [],
   "source": [
    "class_dict = {\n",
    "    'adrian_von_ziegler':0,\n",
    "    'fatma_turgut':1,\n",
    "    'jeff_danna':2,\n",
    "    'michael_rhein':3,\n",
    "    'sarah_jane_scott':4\n",
    "}"
   ]
  },
  {
   "cell_type": "code",
   "execution_count": 69,
   "id": "e375691b-174b-4b58-a2d9-67b554a4e37c",
   "metadata": {},
   "outputs": [],
   "source": [
    "X = []\n",
    "y = []\n",
    "\n",
    "for singer_name, image_files in singer_names_dict.items():\n",
    "    for image in image_files:\n",
    "        img = cv2.imread(image)\n",
    "        scalled_raw_img = cv2.resize(img, (32, 32))\n",
    "        img_har = w2d(img, 'haar', 5)\n",
    "        scalled_har_img = cv2.resize(img_har, (32, 32))\n",
    "        combined_img = np.vstack((scalled_raw_img.reshape(32*32*3, 1), scalled_har_img.reshape(32*32, 1)))\n",
    "        X.append(combined_img)\n",
    "        y.append(class_dict[singer_name])"
   ]
  },
  {
   "cell_type": "code",
   "execution_count": 70,
   "id": "a46cf576-aff1-4882-bb0a-aa88d5c5dc44",
   "metadata": {},
   "outputs": [
    {
     "data": {
      "text/plain": [
       "4096"
      ]
     },
     "execution_count": 70,
     "metadata": {},
     "output_type": "execute_result"
    }
   ],
   "source": [
    "32*32*3 + 32*32"
   ]
  },
  {
   "cell_type": "code",
   "execution_count": 71,
   "id": "8de7ffdc-f7cf-4641-9af6-fd7d44bd51aa",
   "metadata": {},
   "outputs": [
    {
     "data": {
      "text/plain": [
       "array([[ 18.,  27.,  36., ..., 240.,  24.,  15.],\n",
       "       [ 68.,  51.,  23., ...,   3.,  17., 253.],\n",
       "       [ 55.,  61.,  61., ..., 236.,  15.,  10.],\n",
       "       ...,\n",
       "       [ 58., 101., 156., ..., 246.,   4., 177.],\n",
       "       [ 65., 106., 151., ..., 191.,  11.,  24.],\n",
       "       [137., 164., 174., ...,  16.,  20., 142.]])"
      ]
     },
     "execution_count": 71,
     "metadata": {},
     "output_type": "execute_result"
    }
   ],
   "source": [
    "X = np.array(X).reshape(len(X), 4096).astype(float)\n",
    "X"
   ]
  },
  {
   "cell_type": "code",
   "execution_count": 72,
   "id": "f981f7b9-3895-4a5d-ace3-077d7eab18e1",
   "metadata": {},
   "outputs": [
    {
     "data": {
      "text/plain": [
       "(64, 4096)"
      ]
     },
     "execution_count": 72,
     "metadata": {},
     "output_type": "execute_result"
    }
   ],
   "source": [
    "X.shape"
   ]
  },
  {
   "cell_type": "markdown",
   "id": "998efa79-0e8c-47ef-b2ec-c6d3a295e220",
   "metadata": {},
   "source": [
    "# Machine Learning"
   ]
  },
  {
   "cell_type": "code",
   "execution_count": 73,
   "id": "b433ffe8-3956-4458-801d-12f8f2912c73",
   "metadata": {},
   "outputs": [],
   "source": [
    "from sklearn.model_selection import train_test_split, GridSearchCV\n",
    "from sklearn.preprocessing import StandardScaler\n",
    "from sklearn.pipeline import Pipeline, make_pipeline\n",
    "from sklearn.svm import SVC\n",
    "from sklearn.linear_model import LogisticRegression\n",
    "from sklearn.ensemble import BaggingClassifier, RandomForestClassifier"
   ]
  },
  {
   "cell_type": "code",
   "execution_count": 74,
   "id": "ac81a34c-17b9-4995-9a6b-ecf6c27a40f6",
   "metadata": {},
   "outputs": [],
   "source": [
    "X_train, X_test, y_train, y_test = train_test_split(X, y, random_state=0, test_size=0.1)"
   ]
  },
  {
   "cell_type": "code",
   "execution_count": 75,
   "id": "87c05716-7712-4db3-a489-3ad33d4d2b9b",
   "metadata": {},
   "outputs": [
    {
     "data": {
      "text/plain": [
       "0.5714285714285714"
      ]
     },
     "execution_count": 75,
     "metadata": {},
     "output_type": "execute_result"
    }
   ],
   "source": [
    "pipe = Pipeline([('scaler', StandardScaler()),('svc', SVC(kernel=\"linear\", C=1))])\n",
    "pipe.fit(X_train, y_train)\n",
    "pipe.score(X_test, y_test)"
   ]
  },
  {
   "cell_type": "code",
   "execution_count": 76,
   "id": "f92d088a-b50b-4383-afd0-c152d40e9507",
   "metadata": {},
   "outputs": [],
   "source": [
    "param_grid = {\n",
    "    'svc': {\n",
    "        'model': SVC(),\n",
    "        'params': {\n",
    "            'svc__C': [1, 10, 20, 30],\n",
    "            'svc__kernel': [\"rbf\", \"linear\"]\n",
    "        }\n",
    "    },\n",
    "    'lr': {\n",
    "        'model': LogisticRegression(),\n",
    "        'params': {\n",
    "            'logisticregression__C': [1, 10, 20, 30]\n",
    "        }\n",
    "        \n",
    "    },\n",
    "    'rf': {\n",
    "        'model': RandomForestClassifier(),\n",
    "        'params': {\n",
    "            \"randomforestclassifier__n_estimators\": [10, 100, 250, 500, 750, 1000]\n",
    "        }\n",
    "    }\n",
    "}"
   ]
  },
  {
   "cell_type": "code",
   "execution_count": 77,
   "id": "b86e9587-dde8-4ee5-9553-29efd02e53fc",
   "metadata": {},
   "outputs": [],
   "source": [
    "scores = []\n",
    "for k, v in param_grid.items():\n",
    "    pipe = make_pipeline(StandardScaler(), v[\"model\"])\n",
    "    clf = GridSearchCV(pipe, v[\"params\"], cv=5, return_train_score=False)\n",
    "    clf.fit(X_train, y_train)\n",
    "    scores.append({\n",
    "        \"model\": k,\n",
    "        \"best_param\": clf.best_params_,\n",
    "        \"best_score\": clf.best_score_\n",
    "    })"
   ]
  },
  {
   "cell_type": "code",
   "execution_count": 78,
   "id": "8a53387f-ae46-430c-80c5-e1f33815cd47",
   "metadata": {},
   "outputs": [
    {
     "data": {
      "text/html": [
       "<div>\n",
       "<style scoped>\n",
       "    .dataframe tbody tr th:only-of-type {\n",
       "        vertical-align: middle;\n",
       "    }\n",
       "\n",
       "    .dataframe tbody tr th {\n",
       "        vertical-align: top;\n",
       "    }\n",
       "\n",
       "    .dataframe thead th {\n",
       "        text-align: right;\n",
       "    }\n",
       "</style>\n",
       "<table border=\"1\" class=\"dataframe\">\n",
       "  <thead>\n",
       "    <tr style=\"text-align: right;\">\n",
       "      <th></th>\n",
       "      <th>model</th>\n",
       "      <th>best_param</th>\n",
       "      <th>best_score</th>\n",
       "    </tr>\n",
       "  </thead>\n",
       "  <tbody>\n",
       "    <tr>\n",
       "      <th>0</th>\n",
       "      <td>svc</td>\n",
       "      <td>{'svc__C': 10, 'svc__kernel': 'rbf'}</td>\n",
       "      <td>0.772727</td>\n",
       "    </tr>\n",
       "    <tr>\n",
       "      <th>1</th>\n",
       "      <td>lr</td>\n",
       "      <td>{'logisticregression__C': 1}</td>\n",
       "      <td>0.719697</td>\n",
       "    </tr>\n",
       "    <tr>\n",
       "      <th>2</th>\n",
       "      <td>rf</td>\n",
       "      <td>{'randomforestclassifier__n_estimators': 250}</td>\n",
       "      <td>0.756061</td>\n",
       "    </tr>\n",
       "  </tbody>\n",
       "</table>\n",
       "</div>"
      ],
      "text/plain": [
       "  model                                     best_param  best_score\n",
       "0   svc           {'svc__C': 10, 'svc__kernel': 'rbf'}    0.772727\n",
       "1    lr                   {'logisticregression__C': 1}    0.719697\n",
       "2    rf  {'randomforestclassifier__n_estimators': 250}    0.756061"
      ]
     },
     "execution_count": 78,
     "metadata": {},
     "output_type": "execute_result"
    }
   ],
   "source": [
    "import pandas as pd\n",
    "df = pd.DataFrame(scores)\n",
    "df"
   ]
  },
  {
   "cell_type": "code",
   "execution_count": 79,
   "id": "eecb846f-eefc-4424-8876-bc7ae374dae3",
   "metadata": {},
   "outputs": [
    {
     "data": {
      "text/plain": [
       "0.7142857142857143"
      ]
     },
     "execution_count": 79,
     "metadata": {},
     "output_type": "execute_result"
    }
   ],
   "source": [
    "svc = SVC(C=10)\n",
    "svc.fit(X_train, y_train)\n",
    "svc.score(X_test, y_test)"
   ]
  },
  {
   "cell_type": "code",
   "execution_count": 82,
   "id": "78dc1a03-b810-4595-9c9b-da885d83047e",
   "metadata": {
    "scrolled": true
   },
   "outputs": [
    {
     "name": "stdout",
     "output_type": "stream",
     "text": [
      "              precision    recall  f1-score   support\n",
      "\n",
      "           2       0.67      1.00      0.80         2\n",
      "           3       0.00      0.00      0.00         2\n",
      "           4       0.75      1.00      0.86         3\n",
      "\n",
      "    accuracy                           0.71         7\n",
      "   macro avg       0.47      0.67      0.55         7\n",
      "weighted avg       0.51      0.71      0.60         7\n",
      "\n"
     ]
    }
   ],
   "source": [
    "from sklearn.metrics import confusion_matrix, classification_report\n",
    "pred = svc.predict(X_test)\n",
    "cm = confusion_matrix(y_test, pred)\n",
    "print(classification_report(y_test, pred))"
   ]
  },
  {
   "cell_type": "code",
   "execution_count": 85,
   "id": "36e49d49-853e-4043-ba56-e18e4a9b50d2",
   "metadata": {},
   "outputs": [
    {
     "data": {
      "image/png": "[encoded data removed]",
      "text/plain": [
       "<Figure size 640x480 with 2 Axes>"
      ]
     },
     "metadata": {},
     "output_type": "display_data"
    }
   ],
   "source": [
    "sns.heatmap(cm)\n",
    "plt.draw()"
   ]
  },
  {
   "cell_type": "markdown",
   "id": "8be8fad9-6787-44f3-82d8-9754072cfdd4",
   "metadata": {},
   "source": [
    "# Save model and columns"
   ]
  },
  {
   "cell_type": "code",
   "execution_count": 86,
   "id": "24388880-46b0-49c4-8b65-bbd7ebc19792",
   "metadata": {},
   "outputs": [
    {
     "data": {
      "text/plain": [
       "['saved_model.pkl']"
      ]
     },
     "execution_count": 86,
     "metadata": {},
     "output_type": "execute_result"
    }
   ],
   "source": [
    "import joblib\n",
    "joblib.dump(svc, \"saved_model.pkl\")"
   ]
  },
  {
   "cell_type": "code",
   "execution_count": 88,
   "id": "796fe7d2-e220-49be-a987-1cc5adb22af6",
   "metadata": {},
   "outputs": [],
   "source": [
    "import json\n",
    "with open(\"class_dictionary.json\", \"w\") as f:\n",
    "    f.write(json.dumps(class_dict))"
   ]
  },
  {
   "cell_type": "code",
   "execution_count": null,
   "id": "eac18732-1600-4d37-a62e-ac245b42ac01",
   "metadata": {},
   "outputs": [],
   "source": []
  }
 ],
 "metadata": {
  "kernelspec": {
   "display_name": "Python 3 (ipykernel)",
   "language": "python",
   "name": "python3"
  },
  "language_info": {
   "codemirror_mode": {
    "name": "ipython",
    "version": 3
   },
   "file_extension": ".py",
   "mimetype": "text/x-python",
   "name": "python",
   "nbconvert_exporter": "python",
   "pygments_lexer": "ipython3",
   "version": "3.11.5"
  }
 },
 "nbformat": 4,
 "nbformat_minor": 5
}
